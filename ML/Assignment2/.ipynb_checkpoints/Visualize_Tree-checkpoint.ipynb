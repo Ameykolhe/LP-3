{
 "cells": [
  {
   "cell_type": "code",
   "execution_count": null,
   "metadata": {
    "colab": {},
    "colab_type": "code",
    "id": "kjnNcAXkst5G"
   },
   "outputs": [],
   "source": [
    "import pandas as pd\n",
    "import numpy as np\n",
    "INPUT_FOLDER = 'data/'"
   ]
  },
  {
   "cell_type": "code",
   "execution_count": null,
   "metadata": {
    "colab": {
     "base_uri": "https://localhost:8080/",
     "height": 204
    },
    "colab_type": "code",
    "id": "oQU_9StTtf3Q",
    "outputId": "99351341-ddad-4972-b8dc-aab3b79ca233"
   },
   "outputs": [],
   "source": [
    "FILE_NAME = 'sample.csv'\n",
    "data = pd.read_csv(INPUT_FOLDER+FILE_NAME)\n",
    "data.head()"
   ]
  },
  {
   "cell_type": "code",
   "execution_count": null,
   "metadata": {
    "colab": {
     "base_uri": "https://localhost:8080/",
     "height": 136
    },
    "colab_type": "code",
    "id": "6t0BI4l0tml0",
    "outputId": "0995543c-2ea8-4ddc-a4de-a9b5d0968eaa"
   },
   "outputs": [],
   "source": [
    "data.dtypes"
   ]
  },
  {
   "cell_type": "code",
   "execution_count": null,
   "metadata": {
    "colab": {
     "base_uri": "https://localhost:8080/",
     "height": 136
    },
    "colab_type": "code",
    "id": "o4UzhPsGugDa",
    "outputId": "b43b6410-e3b7-4dda-ce60-23827f8c923e"
   },
   "outputs": [],
   "source": [
    "data.nunique()"
   ]
  },
  {
   "cell_type": "code",
   "execution_count": null,
   "metadata": {
    "colab": {},
    "colab_type": "code",
    "id": "V2bENTV1ulGY"
   },
   "outputs": [],
   "source": [
    "def preprocess_data(data):\n",
    "  # Drop ID\n",
    "  if 'ID' in data.columns:\n",
    "    data = data.drop('ID', axis=1)\n",
    "\n",
    "  # Apply dummy values in dataframe\n",
    "  data = pd.get_dummies(data)\n",
    "\n",
    "  # Drop excess columns\n",
    "  try:\n",
    "    excess_columns = ['Age_>35', 'Income_Medium', 'Gender_Male', 'Marital Status_Single', 'Buys_No']\n",
    "    data = data.drop(excess_columns, axis=1)\n",
    "  except Exception as e:\n",
    "    print(e)\n",
    "    \n",
    "  return data"
   ]
  },
  {
   "cell_type": "code",
   "execution_count": null,
   "metadata": {
    "colab": {},
    "colab_type": "code",
    "id": "VBYrVKJQtpo1"
   },
   "outputs": [],
   "source": [
    "# Build a model\n",
    "from sklearn.tree import DecisionTreeClassifier\n",
    "\n",
    "def fit_tree(X, y):\n",
    "  dtree = DecisionTreeClassifier(criterion=\"entropy\")\n",
    "  dtree.fit(X, Y)\n",
    "  return dtree"
   ]
  },
  {
   "cell_type": "code",
   "execution_count": null,
   "metadata": {
    "colab": {
     "base_uri": "https://localhost:8080/",
     "height": 71
    },
    "colab_type": "code",
    "id": "7vbvuasUwhx2",
    "outputId": "02aece0d-6bbf-4031-bcdc-8bab7e044d3e"
   },
   "outputs": [],
   "source": [
    "# Visualize the tree\n",
    "\n",
    "from sklearn.externals.six import StringIO\n",
    "from IPython.display import Image\n",
    "from sklearn.tree import export_graphviz \n",
    "import pydotplus\n",
    "import matplotlib.pyplot as plt\n",
    "\n",
    "def visualize_tree(trained_decision_tree):\n",
    "\n",
    "  try:\n",
    "    dot_data = StringIO()\n",
    "\n",
    "    export_graphviz(trained_decision_tree, out_file=dot_data,\n",
    "                    filled=True, rounded=True,\n",
    "                    special_characters=True)\n",
    "    \n",
    "    graph = pydotplus.graph_from_dot_data(dot_data.getvalue())\n",
    "    return Image(graph.create_png())\n",
    "  except Exception as e:\n",
    "    print(e)\n",
    "    return False"
   ]
  },
  {
   "cell_type": "code",
   "execution_count": null,
   "metadata": {
    "colab": {
     "base_uri": "https://localhost:8080/",
     "height": 765
    },
    "colab_type": "code",
    "id": "nt6y3GOruPTx",
    "outputId": "41926f29-b4e4-4e89-9a8a-2baed3ffcf7e"
   },
   "outputs": [],
   "source": [
    "# Main \n",
    "\n",
    "data = preprocess_data(data)\n",
    "\n",
    "X = data.iloc[:, :-1].values\n",
    "Y = data.iloc[:, -1].values\n",
    "\n",
    "dtree = fit_tree(X, Y)\n",
    "\n",
    "visualize_tree(dtree)"
   ]
  },
  {
   "cell_type": "code",
   "execution_count": null,
   "metadata": {
    "colab": {},
    "colab_type": "code",
    "id": "ilpJgz1NxZD2"
   },
   "outputs": [],
   "source": []
  }
 ],
 "metadata": {
  "colab": {
   "collapsed_sections": [],
   "name": "Visualize_Tree",
   "provenance": []
  },
  "kernelspec": {
   "display_name": "Python 3",
   "language": "python",
   "name": "python3"
  },
  "language_info": {
   "codemirror_mode": {
    "name": "ipython",
    "version": 3
   },
   "file_extension": ".py",
   "mimetype": "text/x-python",
   "name": "python",
   "nbconvert_exporter": "python",
   "pygments_lexer": "ipython3",
   "version": "3.7.4"
  }
 },
 "nbformat": 4,
 "nbformat_minor": 1
}
