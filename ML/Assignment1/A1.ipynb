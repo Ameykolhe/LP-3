{
 "cells": [
  {
   "cell_type": "code",
   "execution_count": 1,
   "metadata": {},
   "outputs": [],
   "source": [
    "import numpy as np\n",
    "import pandas as pd\n",
    "import matplotlib.pyplot as plt"
   ]
  },
  {
   "cell_type": "code",
   "execution_count": 2,
   "metadata": {},
   "outputs": [],
   "source": [
    "class LinearRegression(object):\n",
    "    def __init__(self,file_name):\n",
    "        self.file_name=file_name\n",
    "        self.dataset=None\n",
    "        self.X=None\n",
    "        self.Y=None\n",
    "        self.b_0=0\n",
    "        self.b_1=0\n",
    "        \n",
    " \n",
    "    def read_dataset(self):\n",
    "        self.dataset=pd.read_csv(self.file_name)\n",
    "\n",
    "        self.X=self.dataset.iloc[:,0]\n",
    "        self.Y=self.dataset.iloc[:,-1]\n",
    "        \n",
    "    def calculate_coefficient(self):\n",
    "        n=np.size(self.X)\n",
    "        \n",
    "        mean_x=np.mean(self.X)\n",
    "        mean_y=np.mean(self.Y)\n",
    "        \n",
    "        #calculate cross deviation and deviation about x\n",
    "        \n",
    "        xy=np.sum(self.Y*self.X)-n*mean_y*mean_x\n",
    "        xx=np.sum(self.X*self.X)-n*mean_x*mean_x\n",
    "        \n",
    "        #coefficients\n",
    "        self.b_1=xy/xx\n",
    "        self.b_0=mean_y-self.b_1*mean_x\n",
    "        \n",
    "        \n",
    "        \n",
    "    def Regression(self):\n",
    "        self.calculate_coefficient()\n",
    "        print(\"Equation of line : Y = {} + {}*X\".format(self.b_0,self.b_1))\n",
    "        \n",
    "    def plot_line(self):\n",
    "        plt.scatter(self.X, self.Y, color = \"m\", marker = \"o\", s = 30) \n",
    "  \n",
    "        # predicted response vector \n",
    "        y_pred = self.b_0 + self.b_1*self.X \n",
    "\n",
    "        # plotting the regression line \n",
    "        plt.plot(self.X, y_pred, color = \"g\") \n",
    "\n",
    "        # putting labels \n",
    "        plt.xlabel('x') \n",
    "        plt.ylabel('y') \n",
    "\n",
    "        # function to show plot \n",
    "        plt.show() \n",
    "    \n",
    "\n"
   ]
  },
  {
   "cell_type": "code",
   "execution_count": 3,
   "metadata": {},
   "outputs": [],
   "source": [
    "regressor=LinearRegression('data/sample.csv')"
   ]
  },
  {
   "cell_type": "code",
   "execution_count": 4,
   "metadata": {},
   "outputs": [],
   "source": [
    "regressor.read_dataset()"
   ]
  },
  {
   "cell_type": "code",
   "execution_count": 5,
   "metadata": {},
   "outputs": [
    {
     "data": {
      "text/html": [
       "<div>\n",
       "<style scoped>\n",
       "    .dataframe tbody tr th:only-of-type {\n",
       "        vertical-align: middle;\n",
       "    }\n",
       "\n",
       "    .dataframe tbody tr th {\n",
       "        vertical-align: top;\n",
       "    }\n",
       "\n",
       "    .dataframe thead th {\n",
       "        text-align: right;\n",
       "    }\n",
       "</style>\n",
       "<table border=\"1\" class=\"dataframe\">\n",
       "  <thead>\n",
       "    <tr style=\"text-align: right;\">\n",
       "      <th></th>\n",
       "      <th>hours</th>\n",
       "      <th>risk</th>\n",
       "    </tr>\n",
       "  </thead>\n",
       "  <tbody>\n",
       "    <tr>\n",
       "      <td>0</td>\n",
       "      <td>10</td>\n",
       "      <td>95</td>\n",
       "    </tr>\n",
       "    <tr>\n",
       "      <td>1</td>\n",
       "      <td>9</td>\n",
       "      <td>80</td>\n",
       "    </tr>\n",
       "    <tr>\n",
       "      <td>2</td>\n",
       "      <td>2</td>\n",
       "      <td>10</td>\n",
       "    </tr>\n",
       "    <tr>\n",
       "      <td>3</td>\n",
       "      <td>15</td>\n",
       "      <td>50</td>\n",
       "    </tr>\n",
       "    <tr>\n",
       "      <td>4</td>\n",
       "      <td>10</td>\n",
       "      <td>45</td>\n",
       "    </tr>\n",
       "  </tbody>\n",
       "</table>\n",
       "</div>"
      ],
      "text/plain": [
       "   hours  risk\n",
       "0     10    95\n",
       "1      9    80\n",
       "2      2    10\n",
       "3     15    50\n",
       "4     10    45"
      ]
     },
     "execution_count": 5,
     "metadata": {},
     "output_type": "execute_result"
    }
   ],
   "source": [
    "regressor.dataset.head()"
   ]
  },
  {
   "cell_type": "code",
   "execution_count": 6,
   "metadata": {},
   "outputs": [
    {
     "data": {
      "text/plain": [
       "0    10\n",
       "1     9\n",
       "2     2\n",
       "3    15\n",
       "4    10\n",
       "Name: hours, dtype: int64"
      ]
     },
     "execution_count": 6,
     "metadata": {},
     "output_type": "execute_result"
    }
   ],
   "source": [
    "regressor.X.head()"
   ]
  },
  {
   "cell_type": "code",
   "execution_count": 7,
   "metadata": {},
   "outputs": [
    {
     "data": {
      "text/plain": [
       "0    95\n",
       "1    80\n",
       "2    10\n",
       "3    50\n",
       "4    45\n",
       "Name: risk, dtype: int64"
      ]
     },
     "execution_count": 7,
     "metadata": {},
     "output_type": "execute_result"
    }
   ],
   "source": [
    "regressor.Y.head()"
   ]
  },
  {
   "cell_type": "code",
   "execution_count": 8,
   "metadata": {},
   "outputs": [
    {
     "name": "stdout",
     "output_type": "stream",
     "text": [
      "Equation of line : Y = 12.584627964022893 + 4.58789860997547*X\n"
     ]
    }
   ],
   "source": [
    "regressor.Regression()"
   ]
  },
  {
   "cell_type": "code",
   "execution_count": 9,
   "metadata": {},
   "outputs": [
    {
     "data": {
      "image/png": "[encoded data removed]",
      "text/plain": [
       "<Figure size 432x288 with 1 Axes>"
      ]
     },
     "metadata": {
      "needs_background": "light"
     },
     "output_type": "display_data"
    }
   ],
   "source": [
    "regressor.plot_line()"
   ]
  }
 ],
 "metadata": {
  "kernelspec": {
   "display_name": "Python 3",
   "language": "python",
   "name": "python3"
  },
  "language_info": {
   "codemirror_mode": {
    "name": "ipython",
    "version": 3
   },
   "file_extension": ".py",
   "mimetype": "text/x-python",
   "name": "python",
   "nbconvert_exporter": "python",
   "pygments_lexer": "ipython3",
   "version": "3.7.4"
  }
 },
 "nbformat": 4,
 "nbformat_minor": 2
}
